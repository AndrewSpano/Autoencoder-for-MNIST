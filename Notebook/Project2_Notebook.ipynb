{
  "nbformat": 4,
  "nbformat_minor": 0,
  "metadata": {
    "colab": {
      "name": "Project2_Project.ipynb",
      "provenance": [],
      "collapsed_sections": [],
      "toc_visible": true
    },
    "kernelspec": {
      "name": "python3",
      "display_name": "Python 3"
    },
    "accelerator": "GPU"
  },
  "cells": [
    {
      "cell_type": "markdown",
      "metadata": {
        "id": "BAbo6YFI4G3v"
      },
      "source": [
        "\n",
        "## imports"
      ]
    },
    {
      "cell_type": "code",
      "metadata": {
        "colab": {
          "base_uri": "https://localhost:8080/"
        },
        "id": "bS1hwh-Q4AgO",
        "outputId": "d9048354-f556-4424-ecce-6845a2733f64"
      },
      "source": [
        "import os\n",
        "import struct\n",
        "import numpy as np\n",
        "import matplotlib.pyplot as plt\n",
        "%matplotlib inline\n",
        "\n",
        "import tensorflow as tf\n",
        "import tensorflow.keras as keras\n",
        "from tensorflow.keras import Sequential, optimizers\n",
        "from tensorflow.keras.layers import Dense, Conv2D, MaxPooling2D, Flatten, Dropout, LeakyReLU\n",
        "\n",
        "device_name = tf.test.gpu_device_name()\n",
        "if device_name != \"/device:GPU:0\":\n",
        "  raise SystemError(\"GPU device not found\")\n",
        "print(\"Found GPU at: {}\".format(device_name))"
      ],
      "execution_count": 1,
      "outputs": [
        {
          "output_type": "stream",
          "text": [
            "Found GPU at: /device:GPU:0\n"
          ],
          "name": "stdout"
        }
      ]
    },
    {
      "cell_type": "markdown",
      "metadata": {
        "id": "0evH9T1k4Nsu"
      },
      "source": [
        "## load the Dataset"
      ]
    },
    {
      "cell_type": "code",
      "metadata": {
        "id": "bY3XdwBN5heP"
      },
      "source": [
        "def parse_dataset(filepath):\n",
        "    \"\"\" function used to parse the data of a dataset \"\"\"\n",
        "\n",
        "    # open the dataset\n",
        "    with open(filepath, \"rb\") as dataset:\n",
        "        # read the magic number and the number of images\n",
        "        magic_number, number_of_images = struct.unpack(\">II\", dataset.read(8))\n",
        "        # read the number of rows and number of columns per image\n",
        "        rows, columns = struct.unpack(\">II\", dataset.read(8))\n",
        "        # now read the rest of the file using numpy.fromfile()\n",
        "        images = np.fromfile(dataset, dtype=np.dtype(np.uint8).newbyteorder(\">\"))\n",
        "        # reshape so that the final shape is (number_of_images, rows, columns)\n",
        "        images = images.reshape((number_of_images, rows, columns))\n",
        "\n",
        "    # return the images\n",
        "    return images\n",
        "\n",
        "\n",
        "def parse_labelset(filepath):\n",
        "    \"\"\" function used to parse the data of a labelset \"\"\"\n",
        "\n",
        "    # open the file\n",
        "    with open(filepath, \"rb\") as labelset:\n",
        "        # read the magic number and the number of labels\n",
        "        magic_number, number_of_labels = struct.unpack(\">II\", labelset.read(8))\n",
        "        # now read the rest of the file using numpy.fromfile()\n",
        "        labels = np.fromfile(labelset, dtype=np.dtype(np.uint8).newbyteorder(\">\"))\n",
        "\n",
        "    # return the labels\n",
        "    return labels"
      ],
      "execution_count": 2,
      "outputs": []
    },
    {
      "cell_type": "code",
      "metadata": {
        "id": "UZ2zjJsr4PAn",
        "colab": {
          "base_uri": "https://localhost:8080/"
        },
        "outputId": "0328f1bb-96b3-456e-df45-a30ef3d0333b"
      },
      "source": [
        "# EDIT THE PATHS OF THE DATASETS HERE\n",
        "train_images_path = os.path.join(\".\", \"drive\", \"My Drive\", \"Colab Notebooks\", \"Project\", \"Project2\", \"Dataset\", \"train-images-idx3-ubyte\")\n",
        "train_labels_path = os.path.join(\".\", \"drive\", \"My Drive\", \"Colab Notebooks\", \"Project\", \"Project2\", \"Dataset\", \"train-labels-idx1-ubyte\")\n",
        "\n",
        "test_images_path = os.path.join(\".\", \"drive\", \"My Drive\", \"Colab Notebooks\", \"Project\", \"Project2\", \"Dataset\", \"t10k-images-idx3-ubyte\")\n",
        "test_labels_path = os.path.join(\".\", \"drive\", \"My Drive\", \"Colab Notebooks\", \"Project\", \"Project2\", \"Dataset\", \"t10k-labels-idx1-ubyte\")\n",
        "\n",
        "\n",
        "# LOAD THE DATASETS HERE\n",
        "X_train = parse_dataset(train_images_path)\n",
        "y_train = parse_labelset(train_labels_path)\n",
        "\n",
        "X_test = parse_dataset(test_images_path)\n",
        "y_test = parse_labelset(test_labels_path)\n",
        "\n",
        "\n",
        "# PRINTS TO MAKE SURE\n",
        "print(\"X_train.shape = {}\".format(X_train.shape))\n",
        "print(\"y_train.shape = {}\".format(y_train.shape))\n",
        "print()\n",
        "print(\"X_test.shape = {}\".format(X_test.shape))\n",
        "print(\"y_test.shape = {}\".format(y_test.shape))"
      ],
      "execution_count": 3,
      "outputs": [
        {
          "output_type": "stream",
          "text": [
            "X_train.shape = (60000, 28, 28)\n",
            "y_train.shape = (60000,)\n",
            "\n",
            "X_test.shape = (10000, 28, 28)\n",
            "y_test.shape = (10000,)\n"
          ],
          "name": "stdout"
        }
      ]
    },
    {
      "cell_type": "markdown",
      "metadata": {
        "id": "gnnBHqHC-yAC"
      },
      "source": [
        "## print utilities"
      ]
    },
    {
      "cell_type": "code",
      "metadata": {
        "id": "SdoVf6y-9f1B"
      },
      "source": [
        "def print_image(image, rows, columns):\n",
        "    \"\"\" function used to print an image to the console \"\"\"\n",
        "\n",
        "    # for each row of the image\n",
        "    for i in range(rows):\n",
        "        # for each column\n",
        "        for j in range(columns):\n",
        "            # print the value at the coordinate (i, j)\n",
        "            print(\"{:3d}\".format(image[i, j]), end=\"\")\n",
        "        # print a newline since the row has finished\n",
        "        print()\n",
        "    print()\n",
        "\n",
        "\n",
        "def plot_image(image):\n",
        "    \"\"\" fuction used to plot an image using matplotlib \"\"\"\n",
        "\n",
        "    # plot and show the image\n",
        "    plt.imshow(image, cmap=\"gray\")\n",
        "    plt.show()"
      ],
      "execution_count": 4,
      "outputs": []
    },
    {
      "cell_type": "code",
      "metadata": {
        "colab": {
          "base_uri": "https://localhost:8080/",
          "height": 769
        },
        "id": "7C_li9vc-271",
        "outputId": "e7cc71f1-9d8f-4f93-b394-e2bf752f085d"
      },
      "source": [
        "print_image(X_train[69], 28, 28)\n",
        "plot_image(X_train[69])"
      ],
      "execution_count": 5,
      "outputs": [
        {
          "output_type": "stream",
          "text": [
            "  0  0  0  0  0  0  0  0  0  0  0  0  0  0  0  0  0  0  0  0  0  0  0  0  0  0  0  0\n",
            "  0  0  0  0  0  0  0  0  0  0  0  0  0  0  0  0  0  0  0  0  0  0  0  0  0  0  0  0\n",
            "  0  0  0  0  0  0  0  0  0  0  0  0  0  0  0  0  0  0  0  0  0  0  0  0  0  0  0  0\n",
            "  0  0  0  0  0  0  0  0  0  0  0  0  0  0  0  0  0  0  0  0  0  0  0  0  0  0  0  0\n",
            "  0  0  0  0  0  0  0  0  0  0  0  0  0  0  0  0  0  0  0  0  0  0  0  0  0  0  0  0\n",
            "  0  0  0  0  0  0  0  0  0  0  0  0203254252252252214 51 20  0  0  0  0  0  0  0  0\n",
            "  0  0  0  0  0  0  0  0  0  0  0 62221252250250250252250160 20  0  0  0  0  0  0  0\n",
            "  0  0  0  0  0  0  0  0  0  0 62211250252250250250252250250 49  0  0  0  0  0  0  0\n",
            "  0  0  0  0  0  0  0  0  0 41221250250252250250250252250128 10  0  0  0  0  0  0  0\n",
            "  0  0  0  0  0  0  0  0  0254252252252254252252252254252252 90  0  0  0  0  0  0  0\n",
            "  0  0  0  0  0  0  0  0  0150190250250252250250169171250250250 82  0  0  0  0  0  0\n",
            "  0  0  0  0  0  0  0  0  0 31191250250252189100 20172250250250 80  0  0  0  0  0  0\n",
            "  0  0  0  0  0  0  0  0  0213250250250212 29  0  0252250250250  0  0  0  0  0  0  0\n",
            "  0  0  0  0  0  0  0  0  0 92252252252  0  0  0  0 51252252252203  0  0  0  0  0  0\n",
            "  0  0  0  0  0  0  0  0 82252250250169  0  0  0  0132250250250121  0  0  0  0  0  0\n",
            "  0  0  0  0  0  0  0 92231252250159 20  0  0  0  0252250250250  0  0  0  0  0  0  0\n",
            "  0  0  0  0  0  0  0 30211252250221 40  0  0  0  0 90250250250163  0  0  0  0  0  0\n",
            "  0  0  0  0  0  0  0 31213254232 80  0  0  0  0  0 92252252212163  0  0  0  0  0  0\n",
            "  0  0  0  0  0  0  0151250252149  0  0  0  0  0  0252250250 49  0  0  0  0  0  0  0\n",
            "  0  0  0  0  0  0  0 60221252210 60  0  0  0  0  0252250250 49  0  0  0  0  0  0  0\n",
            "  0  0  0  0  0  0  0  0202252250221 40  0  0123202252250250 49  0  0  0  0  0  0  0\n",
            "  0  0  0  0  0  0  0123243255252252252254252252252254252100  0  0  0  0  0  0  0  0\n",
            "  0  0  0  0  0  0  0  0121171250250250252250250250252250100  0  0  0  0  0  0  0  0\n",
            "  0  0  0  0  0  0  0  0  0 20160250250252250250250252189 40  0  0  0  0  0  0  0  0\n",
            "  0  0  0  0  0  0  0  0  0  0 20170250252250128 49 49 29  0  0  0  0  0  0  0  0  0\n",
            "  0  0  0  0  0  0  0  0  0  0  0  0  0  0  0  0  0  0  0  0  0  0  0  0  0  0  0  0\n",
            "  0  0  0  0  0  0  0  0  0  0  0  0  0  0  0  0  0  0  0  0  0  0  0  0  0  0  0  0\n",
            "  0  0  0  0  0  0  0  0  0  0  0  0  0  0  0  0  0  0  0  0  0  0  0  0  0  0  0  0\n",
            "\n"
          ],
          "name": "stdout"
        },
        {
          "output_type": "display_data",
          "data": {
            "image/png": "[encoded data removed]",
            "text/plain": [
              "<Figure size 432x288 with 1 Axes>"
            ]
          },
          "metadata": {
            "tags": [],
            "needs_background": "light"
          }
        }
      ]
    },
    {
      "cell_type": "code",
      "metadata": {
        "id": "HCm0m2x6_Im6"
      },
      "source": [
        ""
      ],
      "execution_count": 5,
      "outputs": []
    }
  ]
}