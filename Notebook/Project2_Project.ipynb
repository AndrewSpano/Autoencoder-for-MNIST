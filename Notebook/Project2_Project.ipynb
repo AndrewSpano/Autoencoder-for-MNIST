{
  "nbformat": 4,
  "nbformat_minor": 0,
  "metadata": {
    "colab": {
      "name": "Project2_Project.ipynb",
      "provenance": [],
      "collapsed_sections": []
    },
    "kernelspec": {
      "name": "python3",
      "display_name": "Python 3"
    },
    "accelerator": "GPU"
  },
  "cells": [
    {
      "cell_type": "markdown",
      "metadata": {
        "id": "BAbo6YFI4G3v"
      },
      "source": [
        "\n",
        "## imports"
      ]
    },
    {
      "cell_type": "code",
      "metadata": {
        "colab": {
          "base_uri": "https://localhost:8080/"
        },
        "id": "bS1hwh-Q4AgO",
        "outputId": "f00c5bea-4819-423c-ceda-c0afe2d55d92"
      },
      "source": [
        "import os\n",
        "import struct\n",
        "import numpy as np\n",
        "import matplotlib.pyplot as plt\n",
        "%matplotlib inline\n",
        "\n",
        "import tensorflow as tf\n",
        "import tensorflow.keras as keras\n",
        "from tensorflow.keras import Sequential, optimizers\n",
        "from tensorflow.keras.layers import Input, Conv2D, BatchNormalization, MaxPooling2D, UpSampling2D, LeakyReLU\n",
        "from tensorflow.keras.models import Model\n",
        "from tensorflow.keras.callbacks import ReduceLROnPlateau\n",
        "from sklearn.model_selection import train_test_split\n",
        "\n",
        "device_name = tf.test.gpu_device_name()\n",
        "if device_name != \"/device:GPU:0\":\n",
        "  raise SystemError(\"GPU device not found\")\n",
        "print(\"Found GPU at: {}\".format(device_name))"
      ],
      "execution_count": 1,
      "outputs": [
        {
          "output_type": "stream",
          "text": [
            "Found GPU at: /device:GPU:0\n"
          ],
          "name": "stdout"
        }
      ]
    },
    {
      "cell_type": "markdown",
      "metadata": {
        "id": "mIF1o1kR3gOg"
      },
      "source": [
        "## Initialize here input variables"
      ]
    },
    {
      "cell_type": "code",
      "metadata": {
        "id": "HCm0m2x6_Im6"
      },
      "source": [
        "conv_layers = 3\n",
        "kernel_sizes = [(7, 7), (5, 5), (3, 3)]\n",
        "filters = [8, 16, 32]\n",
        "epochs = 3\n",
        "batch_size = 32\n",
        "third_maxpool = True"
      ],
      "execution_count": 2,
      "outputs": []
    },
    {
      "cell_type": "markdown",
      "metadata": {
        "id": "0evH9T1k4Nsu"
      },
      "source": [
        "## load the Dataset"
      ]
    },
    {
      "cell_type": "code",
      "metadata": {
        "id": "bY3XdwBN5heP"
      },
      "source": [
        "def parse_dataset(filepath):\n",
        "    \"\"\" function used to parse the data of a dataset \"\"\"\n",
        "\n",
        "    # open the dataset\n",
        "    with open(filepath, \"rb\") as dataset:\n",
        "        # read the magic number and the number of images\n",
        "        magic_number, number_of_images = struct.unpack(\">II\", dataset.read(8))\n",
        "        # read the number of rows and number of columns per image\n",
        "        rows, columns = struct.unpack(\">II\", dataset.read(8))\n",
        "        # now read the rest of the file using numpy.fromfile()\n",
        "        images = np.fromfile(dataset, dtype=np.dtype(np.uint8).newbyteorder(\">\"))\n",
        "        # reshape so that the final shape is (number_of_images, rows, columns)\n",
        "        images = images.reshape((number_of_images, rows, columns))\n",
        "\n",
        "    # return the images\n",
        "    return images\n",
        "\n",
        "\n",
        "def parse_labelset(filepath):\n",
        "    \"\"\" function used to parse the data of a labelset \"\"\"\n",
        "\n",
        "    # open the file\n",
        "    with open(filepath, \"rb\") as labelset:\n",
        "        # read the magic number and the number of labels\n",
        "        magic_number, number_of_labels = struct.unpack(\">II\", labelset.read(8))\n",
        "        # now read the rest of the file using numpy.fromfile()\n",
        "        labels = np.fromfile(labelset, dtype=np.dtype(np.uint8).newbyteorder(\">\"))\n",
        "\n",
        "    # return the labels\n",
        "    return labels"
      ],
      "execution_count": 3,
      "outputs": []
    },
    {
      "cell_type": "code",
      "metadata": {
        "id": "UZ2zjJsr4PAn",
        "colab": {
          "base_uri": "https://localhost:8080/"
        },
        "outputId": "10372305-76df-42ce-f516-bbb641c2b790"
      },
      "source": [
        "# EDIT THE PATHS OF THE DATASETS HERE\n",
        "train_images_path = os.path.join(\".\", \"drive\", \"My Drive\", \"Colab Notebooks\", \"Project\", \"Project2\", \"Dataset\", \"train-images-idx3-ubyte\")\n",
        "train_labels_path = os.path.join(\".\", \"drive\", \"My Drive\", \"Colab Notebooks\", \"Project\", \"Project2\", \"Dataset\", \"train-labels-idx1-ubyte\")\n",
        "\n",
        "test_images_path = os.path.join(\".\", \"drive\", \"My Drive\", \"Colab Notebooks\", \"Project\", \"Project2\", \"Dataset\", \"t10k-images-idx3-ubyte\")\n",
        "test_labels_path = os.path.join(\".\", \"drive\", \"My Drive\", \"Colab Notebooks\", \"Project\", \"Project2\", \"Dataset\", \"t10k-labels-idx1-ubyte\")\n",
        "\n",
        "\n",
        "# LOAD THE DATASETS HERE\n",
        "X_train = parse_dataset(train_images_path)\n",
        "y_train = parse_labelset(train_labels_path)\n",
        "\n",
        "X_test = parse_dataset(test_images_path)\n",
        "y_test = parse_labelset(test_labels_path)\n",
        "\n",
        "# GET USEFUL VARIABLES\n",
        "rows = X_train.shape[1]\n",
        "columns = X_train.shape[2]\n",
        "\n",
        "# GET VALIDATION DATASET FROM TRAINING SET\n",
        "X_train, X_val, y_train, y_val = train_test_split(X_train, y_train, test_size=0.15, random_state=13, shuffle=True)\n",
        "\n",
        "# RESHAPE SO THAT THE FINAL SHAPE IS (number_of_images, rows, columns, 1)\n",
        "X_train = X_train.reshape(-1, rows, columns, 1)\n",
        "X_val = X_val.reshape(-1, rows, columns, 1)\n",
        "X_test = X_test.reshape(-1, rows, columns, 1)\n",
        "\n",
        "# SCALE INPUT\n",
        "X_train = X_train / 255.\n",
        "X_val = X_val / 255.\n",
        "X_test = X_test / 255.\n",
        "\n",
        "\n",
        "# PRINTS TO MAKE SURE\n",
        "print(\"X_train.shape = {}\".format(X_train.shape))\n",
        "print(\"y_train.shape = {}\".format(y_train.shape))\n",
        "print()\n",
        "print(\"X_val.shape = {}\".format(X_val.shape))\n",
        "print(\"y_val.shape = {}\".format(y_val.shape))\n",
        "print()\n",
        "print(\"X_test.shape = {}\".format(X_test.shape))\n",
        "print(\"y_test.shape = {}\".format(y_test.shape))"
      ],
      "execution_count": 4,
      "outputs": [
        {
          "output_type": "stream",
          "text": [
            "X_train.shape = (51000, 28, 28, 1)\n",
            "y_train.shape = (51000,)\n",
            "\n",
            "X_val.shape = (9000, 28, 28, 1)\n",
            "y_val.shape = (9000,)\n",
            "\n",
            "X_test.shape = (10000, 28, 28, 1)\n",
            "y_test.shape = (10000,)\n"
          ],
          "name": "stdout"
        }
      ]
    },
    {
      "cell_type": "markdown",
      "metadata": {
        "id": "gnnBHqHC-yAC"
      },
      "source": [
        "## print utilities"
      ]
    },
    {
      "cell_type": "code",
      "metadata": {
        "id": "SdoVf6y-9f1B"
      },
      "source": [
        "def print_image(image, rows, columns):\n",
        "    \"\"\" function used to print an image to the console \"\"\"\n",
        "\n",
        "    # for each row of the image\n",
        "    for i in range(rows):\n",
        "        # for each column\n",
        "        for j in range(columns):\n",
        "            # print the value at the coordinate (i, j) if it is not 0\n",
        "            if image[i, j] != 0:\n",
        "                print(\"{:.3f}\".format(image[i, j, 0]), end=\"\")\n",
        "            else:\n",
        "                print(\"   \", end=\"\")\n",
        "        # print a newline since the row has finished\n",
        "        print()\n",
        "    print()\n",
        "\n",
        "\n",
        "def plot_image(image):\n",
        "    \"\"\" fuction used to plot an image using matplotlib \"\"\"\n",
        "\n",
        "    # plot and show the image\n",
        "    plt.imshow(image, cmap=\"gray\")\n",
        "    plt.show()"
      ],
      "execution_count": 5,
      "outputs": []
    },
    {
      "cell_type": "code",
      "metadata": {
        "colab": {
          "base_uri": "https://localhost:8080/",
          "height": 265
        },
        "id": "7C_li9vc-271",
        "outputId": "da5e2d5b-76cb-4075-e4a8-d5f30af1ee66"
      },
      "source": [
        "plot_image(X_train[69, :, :, 0])"
      ],
      "execution_count": 6,
      "outputs": [
        {
          "output_type": "display_data",
          "data": {
            "image/png": "[encoded data removed]",
            "text/plain": [
              "<Figure size 432x288 with 1 Axes>"
            ]
          },
          "metadata": {
            "tags": [],
            "needs_background": "light"
          }
        }
      ]
    },
    {
      "cell_type": "markdown",
      "metadata": {
        "id": "DsUhhRNzS37u"
      },
      "source": [
        "# Autoencoder"
      ]
    },
    {
      "cell_type": "markdown",
      "metadata": {
        "id": "vlBQf0HV319f"
      },
      "source": [
        "## functions to create autoencoder"
      ]
    },
    {
      "cell_type": "code",
      "metadata": {
        "id": "9s9JhumS3zzm"
      },
      "source": [
        "def create_encoder(rows, columns, conv_layers, kernel_sizes, filters, use_third_max_pooling=True,\n",
        "                   use_leaky_relu=False, leaky_relu_alpha=0.15):\n",
        "    \"\"\"\n",
        "    Function used to create the encoder part of the autoencoder. The architecture follows the\n",
        "    following rules:\n",
        "\n",
        "    1) Every Convolutional Layer is followed by a Batch Batch Normalization.\n",
        "\n",
        "    2) The First 3 Convolutional Layers also have a Max Pooling at the end. The first 2 Max Pooling\n",
        "       layers have a pool size of (2, 2), while the third (if used) has a pool size of (7, 7). If\n",
        "       less than 3 Convolutional Layers are available, then fewer Max Pooling layers are used.\n",
        "\n",
        "    3) The activation function used in the Convolutional Layers is ReLU, but it can be changed to\n",
        "       using Leaky ReLU just by setting the parameter \"use_leaky_relu\" to True and picking an alpha.\n",
        "\n",
        "    4) Padding in Convolutions is always \"same\", that is, the output image from the convolution has\n",
        "       the same shape as the input. Only the Max Pooling layers reduce the dimension of the images.\n",
        "    \"\"\"\n",
        "\n",
        "    # define the input\n",
        "    input = Input(shape=(rows, columns, 1))\n",
        "    x = input\n",
        "\n",
        "    # place the Convolutional-BatchNormalization-[MaxPooling] sets of layers\n",
        "    for layer in range(conv_layers):\n",
        "\n",
        "        # determine whether to use ReLU or Leaky ReLU\n",
        "        if not use_leaky_relu:\n",
        "            x = Conv2D(filters=filters[layer], kernel_size=kernel_sizes[layer], activation=\"relu\",\n",
        "                       padding=\"same\")(x)\n",
        "        else:\n",
        "            x = Conv2D(filters=filters[layer], kernel_size=kernel_sizes[layer], activation=\"linear\",\n",
        "                       padding=\"same\")(x)\n",
        "            x = LeakyReLU(alpha=leaky_relu_alpha)(x)\n",
        "\n",
        "        # perform batch normalization\n",
        "        x = BatchNormalization()(x)\n",
        "\n",
        "        # if we are placing a the 3rd layer and MaxPooling should be placed, do it\n",
        "        if layer == 2 and use_third_max_pooling:\n",
        "            x = MaxPooling2D(pool_size=(7, 7))(x)\n",
        "        # if we are in the placing of the first 2 layers, place also a MaxPooling\n",
        "        if layer < 2:\n",
        "            x = MaxPooling2D(pool_size=(2, 2))(x)\n",
        "\n",
        "    # create the encoder part and return it\n",
        "    encoder = Model(input, x, name=\"encoder\")\n",
        "    return encoder\n",
        "\n",
        "\n",
        "def create_decoder(rows, columns, conv_layers, kernel_sizes, filters, use_third_max_pooling=True,\n",
        "                   use_leaky_relu=False, leaky_relu_alpha=0.15):\n",
        "    \"\"\"\n",
        "    Function used to create the decoder part of the Autoencoder. The architecture is basically the\n",
        "    \"mirrored\" architecture of the encoder.\n",
        "    \"\"\"\n",
        "\n",
        "    # define the input\n",
        "    factor = min(conv_layers, 2) * 2\n",
        "    if conv_layers >= 3 and use_third_max_pooling:\n",
        "        factor *= 7\n",
        "    input_rows = rows // factor\n",
        "    input_columns = columns // factor\n",
        "    input = Input(shape=(input_rows, input_columns, filters[-1]))\n",
        "    x = input\n",
        "\n",
        "    # place the Convolutional-BatchNormalization-[MaxPooling] sets of layers in a mirrored way\n",
        "    last_layer = len(filters) - 1\n",
        "    for layer in range(last_layer, -1, -1):\n",
        "\n",
        "        # determine whether to use Leaky ReLU or normal ReLU\n",
        "        if not use_leaky_relu:\n",
        "            x = Conv2D(filters=filters[layer], kernel_size=kernel_sizes[layer], activation=\"relu\",\n",
        "                       padding=\"same\")(x)\n",
        "        else:\n",
        "            x = Conv2D(filters=filters[-1], kernel_size=kernel_sizes[-1], activation=\"linear\",\n",
        "                       padding=\"same\")(input)\n",
        "            x = LeakyReLU(alpha=leaky_relu_alpha)(x)\n",
        "\n",
        "        # add batch normalization\n",
        "        x = BatchNormalization()(x)\n",
        "\n",
        "        # if we are in the third layer and a 3rd Max Pooling was placed, place an UpSampling\n",
        "        if layer == 2 and use_third_max_pooling:\n",
        "            x = UpSampling2D(size=(7, 7))(x)\n",
        "        # if we are in the first 2 layers, place an UpSampling\n",
        "        if layer < 2:\n",
        "            x = UpSampling2D(size=(2, 2))(x)\n",
        "\n",
        "    # do the final convolution to convert the image to the normal shape\n",
        "    x = Conv2D(filters=1, kernel_size=kernel_sizes[-1], activation=\"sigmoid\", padding=\"same\")(x)\n",
        "\n",
        "    # create the decoder part and return it\n",
        "    decoder = Model(input, x, name=\"decoder\")\n",
        "    return decoder\n",
        "\n",
        "\n",
        "def create_autoencoder(rows, columns, encoder, decoder):\n",
        "    \"\"\"\n",
        "    Function that given the encoder part and the decoder part of an autoencoder, creates a \"Model\"\n",
        "    (Keras object) that represents an autoencoder.\n",
        "    \"\"\"\n",
        "\n",
        "    # define the input\n",
        "    input = Input(shape=(rows, columns, 1))\n",
        "\n",
        "    # pass the input through the encoder\n",
        "    x = encoder(input)\n",
        "\n",
        "    # pass then the result through the decoder\n",
        "    x = decoder(x)\n",
        "\n",
        "    # create the model and return it\n",
        "    autoencoder = Model(input, x, name=\"autoencoder\")\n",
        "    return autoencoder"
      ],
      "execution_count": 7,
      "outputs": []
    },
    {
      "cell_type": "markdown",
      "metadata": {
        "id": "P2f9IFaj4BXs"
      },
      "source": [
        "## create the autoencoder"
      ]
    },
    {
      "cell_type": "code",
      "metadata": {
        "colab": {
          "base_uri": "https://localhost:8080/"
        },
        "id": "94ju0ukn4Cu1",
        "outputId": "1a68ac61-e2e8-49fe-9e09-bf937393b379"
      },
      "source": [
        "# get the encoder and the decoder\n",
        "encoder = create_encoder(rows, columns, conv_layers, kernel_sizes, filters)\n",
        "decoder = create_decoder(rows, columns, conv_layers, kernel_sizes, filters)\n",
        "\n",
        "# print summaries\n",
        "print(encoder.summary())\n",
        "print(decoder.summary())\n",
        "\n",
        "# get the autoencoder\n",
        "autoencoder = create_autoencoder(rows, columns, encoder, decoder)\n",
        "autoencoder.summary()"
      ],
      "execution_count": 8,
      "outputs": [
        {
          "output_type": "stream",
          "text": [
            "Model: \"encoder\"\n",
            "_________________________________________________________________\n",
            "Layer (type)                 Output Shape              Param #   \n",
            "=================================================================\n",
            "input_1 (InputLayer)         [(None, 28, 28, 1)]       0         \n",
            "_________________________________________________________________\n",
            "conv2d (Conv2D)              (None, 28, 28, 8)         400       \n",
            "_________________________________________________________________\n",
            "batch_normalization (BatchNo (None, 28, 28, 8)         32        \n",
            "_________________________________________________________________\n",
            "max_pooling2d (MaxPooling2D) (None, 14, 14, 8)         0         \n",
            "_________________________________________________________________\n",
            "conv2d_1 (Conv2D)            (None, 14, 14, 16)        3216      \n",
            "_________________________________________________________________\n",
            "batch_normalization_1 (Batch (None, 14, 14, 16)        64        \n",
            "_________________________________________________________________\n",
            "max_pooling2d_1 (MaxPooling2 (None, 7, 7, 16)          0         \n",
            "_________________________________________________________________\n",
            "conv2d_2 (Conv2D)            (None, 7, 7, 32)          4640      \n",
            "_________________________________________________________________\n",
            "batch_normalization_2 (Batch (None, 7, 7, 32)          128       \n",
            "_________________________________________________________________\n",
            "max_pooling2d_2 (MaxPooling2 (None, 1, 1, 32)          0         \n",
            "=================================================================\n",
            "Total params: 8,480\n",
            "Trainable params: 8,368\n",
            "Non-trainable params: 112\n",
            "_________________________________________________________________\n",
            "None\n",
            "Model: \"decoder\"\n",
            "_________________________________________________________________\n",
            "Layer (type)                 Output Shape              Param #   \n",
            "=================================================================\n",
            "input_2 (InputLayer)         [(None, 1, 1, 32)]        0         \n",
            "_________________________________________________________________\n",
            "conv2d_3 (Conv2D)            (None, 1, 1, 32)          9248      \n",
            "_________________________________________________________________\n",
            "batch_normalization_3 (Batch (None, 1, 1, 32)          128       \n",
            "_________________________________________________________________\n",
            "up_sampling2d (UpSampling2D) (None, 7, 7, 32)          0         \n",
            "_________________________________________________________________\n",
            "conv2d_4 (Conv2D)            (None, 7, 7, 16)          12816     \n",
            "_________________________________________________________________\n",
            "batch_normalization_4 (Batch (None, 7, 7, 16)          64        \n",
            "_________________________________________________________________\n",
            "up_sampling2d_1 (UpSampling2 (None, 14, 14, 16)        0         \n",
            "_________________________________________________________________\n",
            "conv2d_5 (Conv2D)            (None, 14, 14, 8)         6280      \n",
            "_________________________________________________________________\n",
            "batch_normalization_5 (Batch (None, 14, 14, 8)         32        \n",
            "_________________________________________________________________\n",
            "up_sampling2d_2 (UpSampling2 (None, 28, 28, 8)         0         \n",
            "_________________________________________________________________\n",
            "conv2d_6 (Conv2D)            (None, 28, 28, 1)         73        \n",
            "=================================================================\n",
            "Total params: 28,641\n",
            "Trainable params: 28,529\n",
            "Non-trainable params: 112\n",
            "_________________________________________________________________\n",
            "None\n",
            "Model: \"autoencoder\"\n",
            "_________________________________________________________________\n",
            "Layer (type)                 Output Shape              Param #   \n",
            "=================================================================\n",
            "input_3 (InputLayer)         [(None, 28, 28, 1)]       0         \n",
            "_________________________________________________________________\n",
            "encoder (Functional)         (None, 1, 1, 32)          8480      \n",
            "_________________________________________________________________\n",
            "decoder (Functional)         (None, 28, 28, 1)         28641     \n",
            "=================================================================\n",
            "Total params: 37,121\n",
            "Trainable params: 36,897\n",
            "Non-trainable params: 224\n",
            "_________________________________________________________________\n"
          ],
          "name": "stdout"
        }
      ]
    },
    {
      "cell_type": "markdown",
      "metadata": {
        "id": "n3DRdPkkXIDq"
      },
      "source": [
        "## create a custom callback for when the validation loss plateaus"
      ]
    },
    {
      "cell_type": "code",
      "metadata": {
        "id": "CIhUl-McXM06"
      },
      "source": [
        "# add a callback to reduce learning rate when validation loss plateaus\n",
        "reduce_lr = ReduceLROnPlateau(monitor=\"val_loss\", factor=1.0/2, patience=4, min_delta=0.005,\n",
        "                              cooldown=0, min_lr=1e-8, verbose=1)"
      ],
      "execution_count": 9,
      "outputs": []
    },
    {
      "cell_type": "markdown",
      "metadata": {
        "id": "FeOCA1gA7DSm"
      },
      "source": [
        "## train the autoencoder"
      ]
    },
    {
      "cell_type": "code",
      "metadata": {
        "colab": {
          "base_uri": "https://localhost:8080/"
        },
        "id": "N7iwYj_r4R6g",
        "outputId": "20e8aa63-bc3d-49ab-f98b-b32fa53e6f20"
      },
      "source": [
        "# compile and train the autoencoder\n",
        "autoencoder.compile(optimizer=optimizers.Adam(1e-3), loss=\"mse\", metrics=[\"mse\"])\n",
        "history = autoencoder.fit(X_train, X_train, batch_size=batch_size, epochs=epochs,\n",
        "                          shuffle=True, validation_data=(X_val, X_val), callbacks=[reduce_lr])"
      ],
      "execution_count": 10,
      "outputs": [
        {
          "output_type": "stream",
          "text": [
            "Epoch 1/3\n",
            "1594/1594 [==============================] - 8s 5ms/step - loss: 0.0529 - mse: 0.0529 - val_loss: 0.0297 - val_mse: 0.0297\n",
            "Epoch 2/3\n",
            "1594/1594 [==============================] - 8s 5ms/step - loss: 0.0267 - mse: 0.0267 - val_loss: 0.0253 - val_mse: 0.0253\n",
            "Epoch 3/3\n",
            "1594/1594 [==============================] - 8s 5ms/step - loss: 0.0228 - mse: 0.0228 - val_loss: 0.0201 - val_mse: 0.0201\n"
          ],
          "name": "stdout"
        }
      ]
    },
    {
      "cell_type": "markdown",
      "metadata": {
        "id": "AUeAbK0N4-If"
      },
      "source": [
        "## for plotting"
      ]
    },
    {
      "cell_type": "code",
      "metadata": {
        "id": "FuMakLa-4__F"
      },
      "source": [
        "def show_experiment_graph(history):\n",
        "    \"\"\" Function used to show the Loss vs Epochs graph of one experiment \"\"\"\n",
        "\n",
        "    # get the losses\n",
        "    train_losses = history.history[\"mse\"]\n",
        "    val_losses = history.history[\"val_mse\"]\n",
        "\n",
        "    # plot the losses\n",
        "    epochs = len(train_losses)\n",
        "    plt.xticks(np.arange(0, epochs, 1), np.arange(1, epochs + 1, 1))\n",
        "    plt.plot(train_losses, label=\"Train Loss\", color=\"mediumblue\")\n",
        "    plt.plot(val_losses, label=\"Validation Loss\", color=\"darkred\")\n",
        "\n",
        "    # define some more parameters\n",
        "    plt.xlabel(\"Epochs\")\n",
        "    plt.ylabel(\"Loss\")\n",
        "    plt.legend()\n",
        "    plt.show()\n",
        "\n",
        "\n",
        "def show_graphs(histories, configurations):\n",
        "    \"\"\" Function used to plot the losses of a model, for each configuration (experiment) tried \"\"\"\n",
        "\n",
        "    # get the number of experiments performed\n",
        "    experiments = len(histories)\n",
        "\n",
        "    # get the last losses of each experiment\n",
        "    train_losses = [history.history[\"mse\"][-1] for history in histories]\n",
        "    val_losses = [history.history[\"val_mse\"][-1] for history in histories]\n",
        "\n",
        "    # now fix the x labels to match every experiment\n",
        "    xlabels = []\n",
        "    # add a label for each configuration\n",
        "    for configuration in configurations:\n",
        "        # get the values for that configuration\n",
        "        conv_layers, kernel_sizes, filters, epochs, batch_size, third_maxpool = configuration\n",
        "        # define the string and append it\n",
        "        xlabel = \"Conv Layers: {}\\nKernels: {}\\nFilters: {}\\nEpochs: {}\\nBatch Size: {}\\n\" \\\n",
        "                 \"Third MaxPool: {}\".format(conv_layers, kernel_sizes, filters, epochs, batch_size,\n",
        "                                            third_maxpool)\n",
        "        xlabels.append(xlabel)\n",
        "\n",
        "    # define the parameters of the plot\n",
        "    plt.xticks(np.arange(experiments), xlabels)\n",
        "\n",
        "    # plot the losses\n",
        "    plt.plot(train_losses, label=\"Train Loss\", color=\"mediumblue\")\n",
        "    plt.plot(val_losses, label=\"Validation Loss\", color=\"darkred\")\n",
        "\n",
        "    # define some more parameters\n",
        "    plt.xlabel(\"Runs\")\n",
        "    plt.ylabel(\"Losses\")\n",
        "    plt.legend()\n",
        "    plt.show()"
      ],
      "execution_count": 21,
      "outputs": []
    },
    {
      "cell_type": "markdown",
      "metadata": {
        "id": "3N_0IRap823d"
      },
      "source": [
        "## make a prediction of an image and print it\n"
      ]
    },
    {
      "cell_type": "code",
      "metadata": {
        "colab": {
          "base_uri": "https://localhost:8080/",
          "height": 279
        },
        "id": "uQIo9oSh81_5",
        "outputId": "46c48c2f-8e86-4941-fc51-56a987827120"
      },
      "source": [
        "show_experiment_graph(history)"
      ],
      "execution_count": 22,
      "outputs": [
        {
          "output_type": "display_data",
          "data": {
            "image/png": "[encoded data removed]",
            "text/plain": [
              "<Figure size 432x288 with 1 Axes>"
            ]
          },
          "metadata": {
            "tags": [],
            "needs_background": "light"
          }
        }
      ]
    },
    {
      "cell_type": "code",
      "metadata": {
        "id": "RTyBiAy7ne6X"
      },
      "source": [
        ""
      ],
      "execution_count": 12,
      "outputs": []
    }
  ]
}